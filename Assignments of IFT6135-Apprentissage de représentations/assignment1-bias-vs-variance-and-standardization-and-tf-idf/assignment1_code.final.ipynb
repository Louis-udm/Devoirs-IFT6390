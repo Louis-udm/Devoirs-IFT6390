{
 "cells": [
  {
   "cell_type": "markdown",
   "metadata": {},
   "source": [
    "## IFT6135 Assignment1, Programming part\n",
    "\n",
    "Names: Xiao Fan (20086722) ,  Zhibin Lu (20091078)"
   ]
  },
  {
   "cell_type": "code",
   "execution_count": 1,
   "metadata": {},
   "outputs": [
    {
     "name": "stdout",
     "output_type": "stream",
     "text": [
      "Populating the interactive namespace from numpy and matplotlib\n"
     ]
    }
   ],
   "source": [
    "%pylab inline\n",
    "import time\n",
    "import os\n",
    "import sys\n",
    "import collections\n",
    "\n",
    "import torch\n",
    "import torch.nn as nn\n",
    "import torch.optim as optim\n",
    "from torch.autograd import Variable\n",
    "\n",
    "import torchvision\n",
    "import torchvision.transforms\n",
    "\n",
    "from_numpy = torch.from_numpy\n",
    "\n",
    "import numpy as np\n",
    "import random\n",
    "import matplotlib\n",
    "import matplotlib.pyplot as plt\n",
    "import pickle\n",
    "import gzip"
   ]
  },
  {
   "cell_type": "markdown",
   "metadata": {},
   "source": [
    "# Problem 1\n",
    "## Building the Model"
   ]
  },
  {
   "cell_type": "code",
   "execution_count": 173,
   "metadata": {
    "collapsed": true
   },
   "outputs": [],
   "source": [
    "class MLPnet(nn.Module):\n",
    "\n",
    "    #todo: init paramater\n",
    "    def __init__(self,sizes):\n",
    "        super(MLPnet, self).__init__()\n",
    "\n",
    "        self.sizes = sizes\n",
    "        \n",
    "        self.loss_criterion = nn.NLLLoss()\n",
    "#         self.loss_criterion = nn.CrossEntropyLoss()\n",
    "        neu_seq=collections.OrderedDict()\n",
    "        for i in range(len(sizes)-1):\n",
    "            neu_seq[str(i*2)]=torch.nn.Linear(self.sizes[i], self.sizes[i+1])\n",
    "            if i<len(sizes)-2:\n",
    "                neu_seq[str(i*2+1)]=torch.nn.ReLU()\n",
    "        neu_seq[str(i*2+1)]=torch.nn.LogSoftmax()\n",
    "        \n",
    "        self.mlp_architecture = torch.nn.Sequential(neu_seq)\n",
    "\n",
    "    def forward(self, x):\n",
    "        log_proba_out = self.mlp_architecture(x)\n",
    "        return log_proba_out\n",
    "        \n",
    "    def predict(self, proba_out):\n",
    "#         return np.argmax(proba_out.data.cpu().numpy(),1)\n",
    "        _,max_ind=proba_out.max(1)\n",
    "        return max_ind\n",
    "    \n",
    "    def loss(self, log_proba_out, target):\n",
    "        return self.loss_criterion(log_proba_out, target)\n",
    "\n",
    "    def adjust_lr(self, optimizer, epoch, total_epochs):\n",
    "        lr = lr0 * (0.1 ** (epoch / float(total_epochs)))\n",
    "        for param_group in optimizer.param_groups:\n",
    "            param_group['lr'] = lr\n",
    "\n",
    "\n",
    "    def init_weights_zero(self,m):\n",
    "        if type(m) == nn.Linear:\n",
    "            nn.init.constant(m.weight, 0.0)\n",
    "\n",
    "    def init_weights_normal(self,m):\n",
    "        if type(m) == nn.Linear:\n",
    "            nn.init.normal(m.weight)\n",
    "\n",
    "    def init_weights_glorot(self,m):\n",
    "        if type(m) == nn.Linear:\n",
    "            nn.init.xavier_uniform(m.weight)\n",
    "\n",
    "    def evaluate(self, dataset_loader):\n",
    "        LOSSES = 0\n",
    "        COUNTER = 0\n",
    "        ACCURACY=0\n",
    "        for batch in dataset_loader:\n",
    "            # optimizer.zero_grad()\n",
    "            x, y = batch\n",
    "            x = Variable(x).view(-1,self.sizes[0])\n",
    "            y = Variable(y).view(-1)\n",
    "            if cuda:\n",
    "                x = x.cuda()\n",
    "                y = y.cuda()\n",
    "            \n",
    "            log_proba_out=self.forward(x)\n",
    "            loss = self.loss(log_proba_out, y)\n",
    "            predict_out=self.predict(log_proba_out)\n",
    "\n",
    "            n = y.size(0)\n",
    "            LOSSES += loss.sum().data.cpu().numpy() * n\n",
    "\n",
    "            COUNTER += n\n",
    "            ACCURACY+=float(torch.eq(predict_out, y).sum().data.cpu().numpy())\n",
    "        # get average loss\n",
    "        return ACCURACY / float(COUNTER) ,LOSSES / float(COUNTER)\n",
    "\n",
    "    def train_model(self, optim_func, lr, momentum, num_epochs, batch_size, train_data, valid_data=None, test_data=None, display=5):\n",
    "\n",
    "        LOSSES = 0\n",
    "        COUNTER = 0\n",
    "        ITERATIONS = 0\n",
    "        learning_curve_nll_train = list()\n",
    "        learning_curve_nll_valid = list()\n",
    "        learning_curve_nll_test = list()\n",
    "        learning_curve_acc_train = list()\n",
    "        learning_curve_acc_valid = list()\n",
    "        learning_curve_acc_test = list()\n",
    "\n",
    "        # separate data to mini batchs.\n",
    "        train_loader = torch.utils.data.DataLoader(\n",
    "                train_data, batch_size=batch_size, shuffle=True, num_workers=2)\n",
    "        if valid_data is not None:\n",
    "            valid_loader = torch.utils.data.DataLoader(\n",
    "                valid_data, batch_size=batch_size, shuffle=True, num_workers=2)        \n",
    "        if test_data is not None:\n",
    "            test_loader = torch.utils.data.DataLoader(\n",
    "                test_data, batch_size=batch_size, shuffle=True, num_workers=2)\n",
    "        \n",
    "\n",
    "        #training\n",
    "        print('Training Begining, Count of batchs:',len(train_loader))\n",
    "\n",
    "        optimizer=optim_func(self.parameters(), lr, momentum)\n",
    "\n",
    "        # trainloss_every = 200\n",
    "        for ep in range(num_epochs):\n",
    "            for batch in train_loader:\n",
    "                optimizer.zero_grad()\n",
    "                x, y = batch\n",
    "                x = Variable(x).view(-1,self.sizes[0])\n",
    "                y = Variable(y).view(-1)\n",
    "                if cuda:\n",
    "                    x = x.cuda()\n",
    "                    y = y.cuda()\n",
    "                    \n",
    "                log_proba_out=self.forward(x)\n",
    "                loss = self.loss(log_proba_out, y)\n",
    "                loss.backward()\n",
    "                optimizer.step()\n",
    "            \n",
    "            # record loss values and accuray values\n",
    "            train_acc,train_loss = self.evaluate(train_loader)\n",
    "            learning_curve_nll_train.append(train_loss)\n",
    "            learning_curve_acc_train.append(train_acc)\n",
    "            if valid_data is not None:\n",
    "                valid_acc,valid_loss = self.evaluate(valid_loader)\n",
    "                learning_curve_nll_valid.append(valid_loss)\n",
    "                learning_curve_acc_valid.append(valid_acc)\n",
    "            if test_data is not None:\n",
    "                test_acc,test_loss = self.evaluate(test_loader)\n",
    "                learning_curve_nll_test.append(test_loss)\n",
    "                learning_curve_acc_test.append(test_acc)\n",
    "\n",
    "            # print the process of the training.  \n",
    "            if display!=0 and (ep % display==0 or ep==(num_epochs-1)):\n",
    "                if valid_data is None:\n",
    "                    valid_loss=0\n",
    "                    valid_acc=0\n",
    "                if test_data is None:\n",
    "                    test_loss=0\n",
    "                    test_acc=0\n",
    "                print(\"Epoch:{}, [NLL] TRAIN {} / VALID {} / TEST {}\".format(ep+1,\n",
    "                    train_loss, valid_loss, test_loss))\n",
    "                print(\"Epoch:{}, [ACC] TRAIN {} / VALID {} / TEST {}\".format(ep+1,\n",
    "                    train_acc, valid_acc, test_acc))\n",
    "            \n",
    "            self.adjust_lr(optimizer, ep+1, num_epochs)\n",
    "            \n",
    "        return learning_curve_nll_train, \\\n",
    "            learning_curve_nll_valid, \\\n",
    "            learning_curve_nll_test, \\\n",
    "            learning_curve_acc_train, \\\n",
    "            learning_curve_acc_valid,\\\n",
    "            learning_curve_acc_test\n",
    "\n",
    "\n",
    "    # train method for problem2--variance in training\n",
    "    def train_model2(self, optim_func, lr, momentum, num_epochs, batch_size, train_data, valid_data=None, test_data=None, display=5, record_forupdates=5000):\n",
    "\n",
    "        learning_curve_nll_train = list()\n",
    "\n",
    "        # separate data to mini batchs.\n",
    "        train_loader = torch.utils.data.DataLoader(\n",
    "                train_data, batch_size=batch_size, shuffle=True, num_workers=2)\n",
    "        if valid_data is not None:\n",
    "            valid_loader = torch.utils.data.DataLoader(\n",
    "                valid_data, batch_size=batch_size, shuffle=True, num_workers=2)        \n",
    "        if test_data is not None:\n",
    "            test_loader = torch.utils.data.DataLoader(\n",
    "                test_data, batch_size=batch_size, shuffle=True, num_workers=2)\n",
    "        \n",
    "\n",
    "        #training\n",
    "        print('Training Begining, Count of batchs:',len(train_loader))\n",
    "\n",
    "        optimizer=optim_func(self.parameters(), lr, momentum)\n",
    "\n",
    "        ITERATIONS = 1\n",
    "        for ep in range(num_epochs):\n",
    "            for batch in train_loader:\n",
    "                optimizer.zero_grad()\n",
    "                x, y = batch\n",
    "                x = Variable(x).view(-1,self.sizes[0])\n",
    "                y = Variable(y).view(-1)\n",
    "                if cuda:\n",
    "                    x = x.cuda()\n",
    "                    y = y.cuda()\n",
    "                    \n",
    "                log_proba_out=self.forward(x)\n",
    "                loss = self.loss(log_proba_out, y)\n",
    "\n",
    "                learning_curve_nll_train.append(loss.data[0])\n",
    "\n",
    "                if display!=0 and ITERATIONS % display==0:\n",
    "                    print(\"Update:{}, [NLL] TRAIN {} .\".format(ITERATIONS,\n",
    "                        loss.data[0]))\n",
    "\n",
    "                loss.backward()\n",
    "                optimizer.step()\n",
    "\n",
    "                if ITERATIONS>=record_forupdates:\n",
    "                    return learning_curve_nll_train\n",
    "\n",
    "                ITERATIONS += 1\n",
    "                \n",
    "\n",
    "            self.adjust_lr(optimizer, ep+1, num_epochs)\n",
    "            \n",
    "        return learning_curve_nll_train\n",
    "\n"
   ]
  },
  {
   "cell_type": "markdown",
   "metadata": {},
   "source": [
    "## Load MNIST dataset"
   ]
  },
  {
   "cell_type": "code",
   "execution_count": 3,
   "metadata": {},
   "outputs": [
    {
     "name": "stdout",
     "output_type": "stream",
     "text": [
      "Load MNIST data:\n",
      "('mnist_train:', 50000)\n",
      "('mnist_valid:', 10000)\n",
      "('mnist_test:', 10000)\n"
     ]
    }
   ],
   "source": [
    "print('Load MNIST data:')\n",
    "# Pour l'ensemble de donnees de mnist\n",
    "f_mnist=gzip.open('datasets/mnist.pkl.gz')\n",
    "f=gzip.open('datasets/mnist.pkl.gz')\n",
    "mnistdata=pickle.load(f)\n",
    "f.close()\n",
    "mnist_train_inputs=mnistdata[0][0]\n",
    "mnist_train_labels=mnistdata[0][1]\n",
    "mnist_valid_inputs=mnistdata[1][0]\n",
    "mnist_valid_labels=mnistdata[1][1]\n",
    "mnist_test_inputs=mnistdata[2][0]\n",
    "mnist_test_labels=mnistdata[2][1]\n",
    "mnist_train_data = torch.utils.data.TensorDataset(\n",
    "    torch.from_numpy(mnist_train_inputs),torch.from_numpy(mnist_train_labels))\n",
    "mnist_valid_data = torch.utils.data.TensorDataset(\n",
    "    torch.from_numpy(mnist_valid_inputs),torch.from_numpy(mnist_valid_labels))\n",
    "mnist_test_data = torch.utils.data.TensorDataset(\n",
    "    torch.from_numpy(mnist_test_inputs),torch.from_numpy(mnist_test_labels))\n",
    "\n",
    "print('mnist_train:',len(mnist_train_data))\n",
    "print('mnist_valid:',len(mnist_valid_data))\n",
    "print('mnist_test:',len(mnist_test_data))"
   ]
  },
  {
   "cell_type": "markdown",
   "metadata": {},
   "source": [
    "## Hyper-parameters and create model"
   ]
  },
  {
   "cell_type": "code",
   "execution_count": 12,
   "metadata": {
    "collapsed": true
   },
   "outputs": [],
   "source": [
    "sizes=[784,600,300,10]\n",
    "num_epochs = 10\n",
    "batch_size = 64\n",
    "lr0 = 0.02\n",
    "momentum=0.0\n",
    "cuda = False\n",
    "\n",
    "#define mlp net\n",
    "model1 = MLPnet(sizes)\n",
    "if cuda:\n",
    "    model1 = model1.cuda()"
   ]
  },
  {
   "cell_type": "markdown",
   "metadata": {},
   "source": [
    "## Initialization"
   ]
  },
  {
   "cell_type": "code",
   "execution_count": 14,
   "metadata": {},
   "outputs": [
    {
     "name": "stdout",
     "output_type": "stream",
     "text": [
      "('Training Begining, Count of batchs:', 782)\n",
      "Epoch:1, [NLL] TRAIN [ 2.30102563] / VALID [ 2.30210352] / TEST [ 2.30102634]\n",
      "Epoch:1, [ACC] TRAIN 0.11356 / VALID 0.1064 / TEST 0.1135\n",
      "Epoch:4, [NLL] TRAIN [ 2.30101228] / VALID [ 2.30202317] / TEST [ 2.3009882]\n",
      "Epoch:4, [ACC] TRAIN 0.11356 / VALID 0.1064 / TEST 0.1135\n",
      "Epoch:7, [NLL] TRAIN [ 2.30101085] / VALID [ 2.30199671] / TEST [ 2.30101371]\n",
      "Epoch:7, [ACC] TRAIN 0.11356 / VALID 0.1064 / TEST 0.1135\n",
      "Epoch:10, [NLL] TRAIN [ 2.3010118] / VALID [ 2.30198503] / TEST [ 2.30100203]\n",
      "Epoch:10, [ACC] TRAIN 0.11356 / VALID 0.1064 / TEST 0.1135\n"
     ]
    }
   ],
   "source": [
    "# zero initialization\n",
    "model1.apply(model1.init_weights_zero)\n",
    "ll_train_zero,ll_valid_zero,ll_test_zero,acc_train_zero,acc_valid_zero,acc_test_zero= \\\n",
    "    model1.train_model(torch.optim.SGD, lr0, momentum, \n",
    "        num_epochs, batch_size, mnist_train_data,\n",
    "        mnist_valid_data,mnist_test_data, 3)"
   ]
  },
  {
   "cell_type": "code",
   "execution_count": 16,
   "metadata": {},
   "outputs": [
    {
     "name": "stdout",
     "output_type": "stream",
     "text": [
      "('Training Begining, Count of batchs:', 782)\n",
      "Epoch:1, [NLL] TRAIN [ 2.17776299] / VALID [ 2.2764349] / TEST [ 2.45880008]\n",
      "Epoch:1, [ACC] TRAIN 0.55976 / VALID 0.5844 / TEST 0.5559\n",
      "Epoch:4, [NLL] TRAIN [ 1.16753042] / VALID [ 1.42142439] / TEST [ 1.62288463]\n",
      "Epoch:4, [ACC] TRAIN 0.6776 / VALID 0.6909 / TEST 0.6691\n",
      "Epoch:7, [NLL] TRAIN [ 0.96213007] / VALID [ 1.26720858] / TEST [ 1.47153616]\n",
      "Epoch:7, [ACC] TRAIN 0.72098 / VALID 0.7277 / TEST 0.7083\n",
      "Epoch:10, [NLL] TRAIN [ 0.87430602] / VALID [ 1.1853689] / TEST [ 1.40012455]\n",
      "Epoch:10, [ACC] TRAIN 0.74156 / VALID 0.7522 / TEST 0.733\n"
     ]
    }
   ],
   "source": [
    "# normal initialization\n",
    "model1.apply(model1.init_weights_normal)\n",
    "ll_train_normal,ll_valid_normal,ll_test_normal,acc_train_normal,acc_valid_normal,acc_test_normal=\\\n",
    "    model1.train_model(torch.optim.SGD, lr0, momentum, \n",
    "        num_epochs, batch_size, mnist_train_data,\n",
    "        mnist_valid_data,mnist_test_data, 3)"
   ]
  },
  {
   "cell_type": "code",
   "execution_count": 17,
   "metadata": {},
   "outputs": [
    {
     "name": "stdout",
     "output_type": "stream",
     "text": [
      "('Training Begining, Count of batchs:', 782)\n",
      "Epoch:1, [NLL] TRAIN [ 0.3689456] / VALID [ 0.34263855] / TEST [ 0.35018483]\n",
      "Epoch:1, [ACC] TRAIN 0.88884 / VALID 0.9006 / TEST 0.8952\n",
      "Epoch:4, [NLL] TRAIN [ 0.23539387] / VALID [ 0.22501081] / TEST [ 0.23035681]\n",
      "Epoch:4, [ACC] TRAIN 0.93262 / VALID 0.9363 / TEST 0.935\n",
      "Epoch:7, [NLL] TRAIN [ 0.20508926] / VALID [ 0.19888794] / TEST [ 0.2044044]\n",
      "Epoch:7, [ACC] TRAIN 0.94068 / VALID 0.945 / TEST 0.9417\n",
      "Epoch:10, [NLL] TRAIN [ 0.19046761] / VALID [ 0.18618298] / TEST [ 0.1935358]\n",
      "Epoch:10, [ACC] TRAIN 0.9453 / VALID 0.9493 / TEST 0.9461\n"
     ]
    }
   ],
   "source": [
    "# Glorot initialization\n",
    "model1.apply(model1.init_weights_glorot)\n",
    "ll_train_glorot,ll_valid_glorot,ll_test_glorot,acc_train_glorot,acc_valid_glorot,acc_test_glorot=\\\n",
    "    model1.train_model(torch.optim.SGD, lr0, momentum, \n",
    "        num_epochs, batch_size, mnist_train_data,\n",
    "        mnist_valid_data,mnist_test_data, 3)"
   ]
  },
  {
   "cell_type": "code",
   "execution_count": 18,
   "metadata": {},
   "outputs": [
    {
     "data": {
      "image/png": "[encoded data removed]",
      "text/plain": [
       "<matplotlib.figure.Figure at 0x10ac8cf50>"
      ]
     },
     "metadata": {},
     "output_type": "display_data"
    }
   ],
   "source": [
    "plt.figure()\n",
    "plt.plot(range(1,num_epochs+1),ll_train_zero,label='Zero')\n",
    "plt.plot(range(1,num_epochs+1),ll_train_normal,label='Normal')\n",
    "plt.plot(range(1,num_epochs+1),ll_train_glorot,label='Glorot')\n",
    "plt.xlabel('Epochs')\n",
    "plt.ylabel('Loss on training')\n",
    "plt.legend()\n",
    "plt.savefig('problem1-init.pdf')\n",
    "plt.show()"
   ]
  },
  {
   "cell_type": "markdown",
   "metadata": {},
   "source": [
    "## Learning Curves"
   ]
  },
  {
   "cell_type": "code",
   "execution_count": 38,
   "metadata": {},
   "outputs": [
    {
     "name": "stdout",
     "output_type": "stream",
     "text": [
      "('Training Begining, Count of batchs:', 782)\n",
      "Epoch:1, [NLL] TRAIN [ 0.31661138] / VALID [ 0.29322472] / TEST [ 0.29969409]\n",
      "Epoch:1, [ACC] TRAIN 0.91222 / VALID 0.9181 / TEST 0.9174\n",
      "Epoch:21, [NLL] TRAIN [ 0.05100355] / VALID [ 0.08552448] / TEST [ 0.08610594]\n",
      "Epoch:21, [ACC] TRAIN 0.98712 / VALID 0.9751 / TEST 0.9737\n",
      "Epoch:41, [NLL] TRAIN [ 0.0259389] / VALID [ 0.07394009] / TEST [ 0.07261139]\n",
      "Epoch:41, [ACC] TRAIN 0.99504 / VALID 0.9792 / TEST 0.9764\n",
      "Epoch:61, [NLL] TRAIN [ 0.01745208] / VALID [ 0.07181744] / TEST [ 0.06946559]\n",
      "Epoch:61, [ACC] TRAIN 0.99776 / VALID 0.9796 / TEST 0.9771\n",
      "Epoch:81, [NLL] TRAIN [ 0.01402876] / VALID [ 0.07160164] / TEST [ 0.06866954]\n",
      "Epoch:81, [ACC] TRAIN 0.9985 / VALID 0.9801 / TEST 0.9768\n",
      "Epoch:100, [NLL] TRAIN [ 0.01232926] / VALID [ 0.07136255] / TEST [ 0.06839257]\n",
      "Epoch:100, [ACC] TRAIN 0.9988 / VALID 0.9802 / TEST 0.977\n"
     ]
    }
   ],
   "source": [
    "#set hyper parameters\n",
    "sizes=[784,600,100,10]\n",
    "batch_size = 64\n",
    "num_epochs = 100\n",
    "cuda = False\n",
    "lr0 = 0.02\n",
    "momentum=0.0\n",
    "\n",
    "#define mlp net\n",
    "model1 = MLPnet(sizes)\n",
    "\n",
    "model1.apply(model1.init_weights_glorot)\n",
    "ll_train_glorot,ll_valid_glorot,ll_test_glorot,acc_train_glorot,acc_valid_glorot,acc_test_glorot=\\\n",
    "    model1.train_model(torch.optim.SGD, lr0, momentum, \n",
    "        num_epochs, batch_size, mnist_train_data,\n",
    "        mnist_valid_data,mnist_test_data,20)\n"
   ]
  },
  {
   "cell_type": "code",
   "execution_count": 39,
   "metadata": {},
   "outputs": [
    {
     "data": {
      "image/png": "[encoded data removed]",
      "text/plain": [
       "<matplotlib.figure.Figure at 0x1148ee890>"
      ]
     },
     "metadata": {},
     "output_type": "display_data"
    }
   ],
   "source": [
    "# plot accuracy against the training time\n",
    "plt.figure()\n",
    "plt.plot(range(1,num_epochs+1),acc_train_glorot,label='Training')\n",
    "plt.plot(range(1,num_epochs+1),acc_valid_glorot,label='Validation')\n",
    "plt.xlabel('Epochs')\n",
    "plt.ylabel('Accuracy')\n",
    "plt.legend()\n",
    "plt.savefig('problem1-accuracy1.pdf')\n",
    "plt.show()"
   ]
  },
  {
   "cell_type": "markdown",
   "metadata": {},
   "source": [
    "### Double capacity"
   ]
  },
  {
   "cell_type": "code",
   "execution_count": 27,
   "metadata": {},
   "outputs": [
    {
     "name": "stdout",
     "output_type": "stream",
     "text": [
      "('Training Begining, Count of batchs:', 782)\n",
      "Epoch:1, [NLL] TRAIN [ 0.32770947] / VALID [ 0.30197799] / TEST [ 0.30822513]\n",
      "Epoch:1, [ACC] TRAIN 0.9066 / VALID 0.9178 / TEST 0.9123\n",
      "Epoch:11, [NLL] TRAIN [ 0.09289576] / VALID [ 0.11241861] / TEST [ 0.10989171]\n",
      "Epoch:11, [ACC] TRAIN 0.97454 / VALID 0.969 / TEST 0.9665\n",
      "Epoch:21, [NLL] TRAIN [ 0.05226662] / VALID [ 0.08951543] / TEST [ 0.08304434]\n",
      "Epoch:21, [ACC] TRAIN 0.98656 / VALID 0.9746 / TEST 0.974\n",
      "Epoch:31, [NLL] TRAIN [ 0.0344952] / VALID [ 0.08079372] / TEST [ 0.07345305]\n",
      "Epoch:31, [ACC] TRAIN 0.99244 / VALID 0.9763 / TEST 0.9776\n",
      "Epoch:41, [NLL] TRAIN [ 0.02528276] / VALID [ 0.07666276] / TEST [ 0.06817023]\n",
      "Epoch:41, [ACC] TRAIN 0.99546 / VALID 0.9784 / TEST 0.9791\n",
      "Epoch:51, [NLL] TRAIN [ 0.02017495] / VALID [ 0.07489219] / TEST [ 0.06667338]\n",
      "Epoch:51, [ACC] TRAIN 0.99708 / VALID 0.979 / TEST 0.9791\n",
      "Epoch:61, [NLL] TRAIN [ 0.01709339] / VALID [ 0.07480209] / TEST [ 0.06573427]\n",
      "Epoch:61, [ACC] TRAIN 0.99784 / VALID 0.979 / TEST 0.9797\n",
      "Epoch:71, [NLL] TRAIN [ 0.01497561] / VALID [ 0.07390518] / TEST [ 0.06525701]\n",
      "Epoch:71, [ACC] TRAIN 0.9983 / VALID 0.979 / TEST 0.9794\n",
      "Epoch:81, [NLL] TRAIN [ 0.01360956] / VALID [ 0.07405216] / TEST [ 0.06501745]\n",
      "Epoch:81, [ACC] TRAIN 0.99862 / VALID 0.9793 / TEST 0.9795\n",
      "Epoch:91, [NLL] TRAIN [ 0.01262543] / VALID [ 0.07446404] / TEST [ 0.06506643]\n",
      "Epoch:91, [ACC] TRAIN 0.99882 / VALID 0.9792 / TEST 0.9796\n",
      "Epoch:100, [NLL] TRAIN [ 0.01197088] / VALID [ 0.07394347] / TEST [ 0.06456894]\n",
      "Epoch:100, [ACC] TRAIN 0.999 / VALID 0.9795 / TEST 0.9799\n"
     ]
    }
   ],
   "source": [
    "num_epochs = 100\n",
    "sizes=[784,800,400,10]\n",
    "model1 = MLPnet(sizes)\n",
    "model1.apply(model1.init_weights_glorot)\n",
    "ll_train_glorot2,ll_valid_glorot2,ll_test_glorot2,acc_train_glorot2,acc_valid_glorot2,acc_test_glorot2=\\\n",
    "    model1.train_model(torch.optim.SGD, lr0, momentum, \n",
    "        num_epochs, batch_size, mnist_train_data,\n",
    "        mnist_valid_data,mnist_test_data, 10)\n"
   ]
  },
  {
   "cell_type": "code",
   "execution_count": 28,
   "metadata": {},
   "outputs": [
    {
     "data": {
      "image/png": "[encoded data removed]",
      "text/plain": [
       "<matplotlib.figure.Figure at 0x117ae2bd0>"
      ]
     },
     "metadata": {},
     "output_type": "display_data"
    }
   ],
   "source": [
    "# plot accuracy against the training time\n",
    "plt.figure()\n",
    "plt.plot(range(1,num_epochs+1),acc_train_glorot2,label='Training')\n",
    "plt.plot(range(1,num_epochs+1),acc_valid_glorot2,label='Validation')\n",
    "plt.xlabel('Epochs')\n",
    "plt.ylabel('Accuracy')\n",
    "plt.title('Double model capacity')\n",
    "plt.legend()\n",
    "plt.savefig('problem1-accuracy2.pdf')\n",
    "plt.show()"
   ]
  },
  {
   "cell_type": "markdown",
   "metadata": {},
   "source": [
    "## Training Set Size, Generalization Gap, and Standard Error"
   ]
  },
  {
   "cell_type": "code",
   "execution_count": 40,
   "metadata": {},
   "outputs": [
    {
     "name": "stdout",
     "output_type": "stream",
     "text": [
      "('Training Begining, Count of batchs:', 8)\n",
      "('Training Begining, Count of batchs:', 8)\n",
      "('Training Begining, Count of batchs:', 8)\n",
      "('Training Begining, Count of batchs:', 8)\n",
      "('Training Begining, Count of batchs:', 8)\n",
      "('Training Begining, Count of batchs:', 16)\n",
      "('Training Begining, Count of batchs:', 16)\n",
      "('Training Begining, Count of batchs:', 16)\n",
      "('Training Begining, Count of batchs:', 16)\n",
      "('Training Begining, Count of batchs:', 16)\n",
      "('Training Begining, Count of batchs:', 40)\n",
      "('Training Begining, Count of batchs:', 40)\n",
      "('Training Begining, Count of batchs:', 40)\n",
      "('Training Begining, Count of batchs:', 40)\n",
      "('Training Begining, Count of batchs:', 40)\n",
      "('Training Begining, Count of batchs:', 79)\n",
      "('Training Begining, Count of batchs:', 79)\n",
      "('Training Begining, Count of batchs:', 79)\n",
      "('Training Begining, Count of batchs:', 79)\n",
      "('Training Begining, Count of batchs:', 79)\n",
      "('Training Begining, Count of batchs:', 782)\n",
      "('Training Begining, Count of batchs:', 782)\n",
      "('Training Begining, Count of batchs:', 782)\n",
      "('Training Begining, Count of batchs:', 782)\n",
      "('Training Begining, Count of batchs:', 782)\n"
     ]
    }
   ],
   "source": [
    "sizes=[784,600,100,10]\n",
    "list_a = [0.01,0.02,0.05,0.1,1]\n",
    "num_epochs = 100\n",
    "N = 50000\n",
    "result = np.zeros((len(list_a),5))\n",
    "for a in range(len(list_a)) :\n",
    "    for i in range(5) : \n",
    "        Na = int (list_a[a]*N)\n",
    "        index = np.random.choice(N,Na)\n",
    "        mnist_train_subinputs = mnist_train_inputs[index,:]\n",
    "        mnist_train_sublabels = mnist_train_labels[index]\n",
    "        mnist_train_subdata = torch.utils.data.TensorDataset(\n",
    "            torch.from_numpy(mnist_train_subinputs),torch.from_numpy(mnist_train_sublabels))\n",
    "#        print \"training set size : \", len(mnist_train_subdata)\n",
    "        model1 = MLPnet(sizes)\n",
    "        model1.apply(model1.init_weights_glorot)\n",
    "        ll_train_sub,ll_valid_sub,ll_test_sub,acc_train_sub,acc_valid_sub,acc_test_sub=\\\n",
    "            model1.train_model(torch.optim.SGD, lr0, momentum, \n",
    "            num_epochs, batch_size, mnist_train_subdata,\n",
    "            mnist_valid_data,mnist_test_data, False)\n",
    "        \n",
    "        best = np.argmax(acc_valid_sub)\n",
    "        diff = acc_train_sub[best] - acc_test_sub[best]\n",
    "        result[a][i] = diff\n",
    "        "
   ]
  },
  {
   "cell_type": "code",
   "execution_count": 42,
   "metadata": {},
   "outputs": [
    {
     "name": "stdout",
     "output_type": "stream",
     "text": [
      "[[ 0.1264   0.1087   0.1198   0.0771   0.0971 ]\n",
      " [ 0.0808   0.0925   0.0824   0.082    0.0827 ]\n",
      " [ 0.0585   0.0566   0.0593   0.0605   0.0561 ]\n",
      " [ 0.0479   0.0542   0.0499   0.055    0.0444 ]\n",
      " [ 0.02428  0.02382  0.02356  0.02318  0.02408]]\n",
      "training set size 500.0, average generalization gap 0.10582, standard error 0.0174822652994\n",
      "training set size 1000.0, average generalization gap 0.08408, standard error 0.00425929571643\n",
      "training set size 2500.0, average generalization gap 0.0582, standard error 0.00164681510802\n",
      "training set size 5000.0, average generalization gap 0.05028, standard error 0.00395039238557\n",
      "training set size 50000, average generalization gap 0.023784, standard error 0.000387277678159\n"
     ]
    }
   ],
   "source": [
    "print result      \n",
    " \n",
    "avg_gap = np.mean(result,axis = 1)    \n",
    "std_gap = np.std(result,axis = 1)\n",
    "for a in range(len(list_a)) :\n",
    "    print (\"training set size {}, average generalization gap {}, standard error {}\".format(list_a[a]*N,avg_gap[a],std_gap[a]))\n",
    "    "
   ]
  },
  {
   "cell_type": "markdown",
   "metadata": {},
   "source": [
    "# Problem 2"
   ]
  },
  {
   "cell_type": "code",
   "execution_count": 41,
   "metadata": {},
   "outputs": [
    {
     "name": "stdout",
     "output_type": "stream",
     "text": [
      "Load Corpus data:\n",
      "('max index of types:', 61188)\n",
      "('number of class:', 20)\n"
     ]
    },
    {
     "data": {
      "text/plain": [
       "12"
      ]
     },
     "execution_count": 41,
     "metadata": {},
     "output_type": "execute_result"
    }
   ],
   "source": [
    "print('Load Corpus data:')\n",
    "news_train_inputs_o=  np.loadtxt('20news-bydate/matlab/train.data')\n",
    "news_train_labels_o=  np.loadtxt('20news-bydate/matlab/train.label')\n",
    "news_test_inputs_o =  np.loadtxt('20news-bydate/matlab/test.data')\n",
    "news_test_labels_o =  np.loadtxt('20news-bydate/matlab/test.label')\n",
    "# print(news_train_inputs.shape)\n",
    "# print(news_train_labels.shape)\n",
    "# print(news_test_inputs.shape)\n",
    "# print(news_test_labels.shape)\n",
    "\n",
    "type_max=int(np.max([np.max(news_train_inputs_o[:,1]),np.max(news_test_inputs_o[:,1])]))\n",
    "num_class=int(np.max(news_train_labels_o))\n",
    "\n",
    "def constructVectors(inputs):\n",
    "    doc_max=int(np.max(inputs[:,0]))\n",
    "    data=torch.zeros(doc_max,type_max)\n",
    "    for w in inputs:\n",
    "        data[w[0]-1,w[1]-1]=w[2]\n",
    "    return data\n",
    "\n",
    "news_train_inputs= constructVectors(news_train_inputs_o)\n",
    "news_test_inputs = constructVectors(news_test_inputs_o)\n",
    "news_train_labels=torch.from_numpy(news_train_labels_o-1).int()\n",
    "news_test_labels=torch.from_numpy(news_test_labels_o-1).int()\n",
    "\n",
    "ind_separate=news_train_inputs.size(0)/5\n",
    "np.random.seed(456)\n",
    "indexs = np.arange(0,news_train_inputs.size(0))\n",
    "np.random.shuffle(indexs)\n",
    "news_valid_inputs = news_train_inputs[indexs[:ind_separate]]\n",
    "news_valid_labels = news_train_labels[indexs[:ind_separate]]\n",
    "news_train_inputs  = news_train_inputs[indexs[ind_separate:]]\n",
    "news_train_labels  = news_train_labels[indexs[ind_separate:]]\n",
    "\n",
    "print('max index of types:',type_max)\n",
    "print('number of class:',num_class)\n",
    "\n",
    "del news_train_inputs_o,news_train_labels_o,news_test_inputs_o,news_test_labels_o\n",
    "gc.collect()"
   ]
  },
  {
   "cell_type": "code",
   "execution_count": 44,
   "metadata": {},
   "outputs": [
    {
     "name": "stdout",
     "output_type": "stream",
     "text": [
      "torch.Size([9016, 61188])\n",
      "torch.Size([2253, 61188])\n",
      "torch.Size([7505, 61188])\n"
     ]
    }
   ],
   "source": [
    "print news_train_inputs.shape\n",
    "print news_valid_inputs.shape\n",
    "print news_test_inputs.shape"
   ]
  },
  {
   "cell_type": "markdown",
   "metadata": {},
   "source": [
    "## Building the model\n",
    "### No preprocessing"
   ]
  },
  {
   "cell_type": "code",
   "execution_count": 58,
   "metadata": {},
   "outputs": [
    {
     "name": "stdout",
     "output_type": "stream",
     "text": [
      "('news_train:', 9016)\n",
      "('news_valid:', 2253)\n",
      "('news_test:', 7505)\n"
     ]
    }
   ],
   "source": [
    "# preprocess the data for NO-Preprocessing\n",
    "news_train_data  = torch.utils.data.TensorDataset(\n",
    "    news_train_inputs,news_train_labels)\n",
    "news_valid_data = torch.utils.data.TensorDataset(\n",
    "    news_valid_inputs,news_valid_labels)\n",
    "news_test_data = torch.utils.data.TensorDataset(\n",
    "    news_test_inputs,news_test_labels)\n",
    "\n",
    "print('news_train:',len(news_train_data))\n",
    "print('news_valid:',len(news_valid_data))\n",
    "print('news_test:',len(news_test_data))\n"
   ]
  },
  {
   "cell_type": "code",
   "execution_count": 115,
   "metadata": {},
   "outputs": [
    {
     "name": "stdout",
     "output_type": "stream",
     "text": [
      "('Training Begining, Count of batchs:', 141)\n",
      "Epoch:1, [NLL] TRAIN [ 2.79522872] / VALID [ 2.82018995] / TEST [ 2.82533097]\n",
      "Epoch:1, [ACC] TRAIN 0.184228039042 / VALID 0.164669329783 / TEST 0.162158560959\n",
      "Epoch:6, [NLL] TRAIN [ 0.76684618] / VALID [ 1.09857678] / TEST [ 1.37009716]\n",
      "Epoch:6, [ACC] TRAIN 0.839174800355 / VALID 0.732356857523 / TEST 0.648634243837\n",
      "Epoch:11, [NLL] TRAIN [ 0.89346731] / VALID [ 1.35050559] / TEST [ 1.77863693]\n",
      "Epoch:11, [ACC] TRAIN 0.840505767524 / VALID 0.72614292055 / TEST 0.642504996669\n",
      "Epoch:16, [NLL] TRAIN [ 0.34153548] / VALID [ 0.82713085] / TEST [ 1.18867815]\n",
      "Epoch:16, [ACC] TRAIN 0.946095829636 / VALID 0.818464269862 / TEST 0.711125916056\n",
      "Epoch:20, [NLL] TRAIN [ 0.30633903] / VALID [ 0.81419712] / TEST [ 1.18984973]\n",
      "Epoch:20, [ACC] TRAIN 0.955190771961 / VALID 0.823790501553 / TEST 0.712858094604\n"
     ]
    }
   ],
   "source": [
    "#set hyper parameters\n",
    "sizes=[type_max,100,num_class]\n",
    "momentum=0.9\n",
    "cuda = False\n",
    "num_epochs = 20\n",
    "\n",
    "#define mlp net\n",
    "model2 = MLPnet(sizes)\n",
    "if cuda:\n",
    "    model2 = model2.cuda()\n",
    "\n",
    "lr0 = 0.01\n",
    "batch_size = 64\n",
    "model2.apply(model2.init_weights_glorot)\n",
    "ll_train,ll_valid,ll_test,acc_train,acc_valid,acc_test=\\\n",
    "    model2.train_model(torch.optim.SGD, lr0, momentum, \n",
    "        num_epochs, batch_size, news_train_data,\n",
    "        news_valid_data,news_test_data,display=5)\n",
    "# Epoch:20, [ACC] TRAIN 0.963287488909 / VALID 0.827341322681 / TEST 0.714057295137 lr = 0.01\n",
    "# Epoch:20, [ACC] TRAIN 0.968389529725 / VALID 0.812250332889 / TEST 0.712191872085 lr - 0.02\n",
    "# Epoch:20, [ACC] TRAIN 0.933340727595 / VALID 0.760763426542 / TEST 0.661425716189 lr=0.05\n",
    "# Epoch:20, [ACC] TRAIN 0.922582076309 / VALID 0.803817132712 / TEST 0.704463690873 lr = 0.005"
   ]
  },
  {
   "cell_type": "code",
   "execution_count": 118,
   "metadata": {},
   "outputs": [
    {
     "data": {
      "image/png": "[encoded data removed]",
      "text/plain": [
       "<matplotlib.figure.Figure at 0x11910b850>"
      ]
     },
     "metadata": {},
     "output_type": "display_data"
    }
   ],
   "source": [
    "# plot accuracy against training time\n",
    "plt.figure()\n",
    "plt.plot(range(1,num_epochs+1),acc_train,label='Training')\n",
    "# plt.plot(range(1,num_epochs+1),acc_valid,label='Validation')\n",
    "plt.plot(range(1,num_epochs+1),acc_test,label='Test')\n",
    "plt.xlabel('Epochs')\n",
    "plt.ylabel('Accuracy')\n",
    "plt.title('No preprocessing data')\n",
    "plt.legend()\n",
    "plt.savefig('problem2-no-preprocessing.pdf')\n",
    "plt.show()"
   ]
  },
  {
   "cell_type": "markdown",
   "metadata": {},
   "source": [
    "## IF-IDF"
   ]
  },
  {
   "cell_type": "code",
   "execution_count": 70,
   "metadata": {},
   "outputs": [
    {
     "name": "stdout",
     "output_type": "stream",
     "text": [
      "('tfidf_train:', 9016)\n",
      "('tfidf_valid:', 2253)\n",
      "('tfidf_test:', 7505)\n"
     ]
    }
   ],
   "source": [
    "# tf-idf:\n",
    "from sklearn.feature_extraction.text import TfidfTransformer\n",
    "\n",
    "#preprocess the data to tf-idf\n",
    "TfidfTransf=TfidfTransformer()\n",
    "TfidfTransf.fit(news_train_inputs.numpy())\n",
    "\n",
    "tfidf_train_inputs=torch.from_numpy(TfidfTransf.transform(\n",
    "    news_train_inputs.numpy()).toarray()).type(torch.FloatTensor)\n",
    "tfidf_valid_inputs=torch.from_numpy(TfidfTransf.transform(\n",
    "    news_valid_inputs.numpy()).toarray()).type(torch.FloatTensor)\n",
    "tfidf_test_inputs=torch.from_numpy(TfidfTransf.transform(\n",
    "    news_test_inputs.numpy()).toarray()).type(torch.FloatTensor)\n",
    "\n",
    "tfidf_train_data  = torch.utils.data.TensorDataset(\n",
    "    tfidf_train_inputs,news_train_labels)\n",
    "tfidf_valid_data = torch.utils.data.TensorDataset(\n",
    "    tfidf_valid_inputs,news_valid_labels)\n",
    "tfidf_test_data = torch.utils.data.TensorDataset(\n",
    "    tfidf_test_inputs,news_test_labels)\n",
    "\n",
    "print('tfidf_train:',len(tfidf_train_data))\n",
    "print('tfidf_valid:',len(tfidf_valid_data))\n",
    "print('tfidf_test:',len(tfidf_test_data))"
   ]
  },
  {
   "cell_type": "code",
   "execution_count": 131,
   "metadata": {},
   "outputs": [
    {
     "name": "stdout",
     "output_type": "stream",
     "text": [
      "('Training Begining, Count of batchs:', 141)\n",
      "Epoch:1, [NLL] TRAIN [ 2.82458091] / VALID [ 2.83488202] / TEST [ 2.85373354]\n",
      "Epoch:1, [ACC] TRAIN 0.174245785271 / VALID 0.171327119396 / TEST 0.144437041972\n",
      "Epoch:6, [NLL] TRAIN [ 0.60551864] / VALID [ 0.87758493] / TEST [ 1.07735598]\n",
      "Epoch:6, [ACC] TRAIN 0.919698314108 / VALID 0.821127385708 / TEST 0.752564956696\n",
      "Epoch:11, [NLL] TRAIN [ 0.27348161] / VALID [ 0.62783968] / TEST [ 0.86944455]\n",
      "Epoch:11, [ACC] TRAIN 0.975044365572 / VALID 0.861517976032 / TEST 0.770952698201\n",
      "Epoch:16, [NLL] TRAIN [ 0.18106084] / VALID [ 0.55645478] / TEST [ 0.80905664]\n",
      "Epoch:16, [ACC] TRAIN 0.988132209406 / VALID 0.876608965823 / TEST 0.787475016656\n",
      "Epoch:20, [NLL] TRAIN [ 0.15190075] / VALID [ 0.53566998] / TEST [ 0.79441202]\n",
      "Epoch:20, [ACC] TRAIN 0.991681455191 / VALID 0.878828229028 / TEST 0.787075283145\n"
     ]
    }
   ],
   "source": [
    "# train the model\n",
    "sizes=[type_max,100,num_class]\n",
    "momentum=0.9\n",
    "num_epochs = 20\n",
    "lr0 = 0.09\n",
    "batch_size = 64\n",
    "\n",
    "model2 = MLPnet(sizes)\n",
    "model2.apply(model2.init_weights_glorot)\n",
    "ll_train2,ll_valid2,ll_test2,acc_train2,acc_valid2,acc_test2=\\\n",
    "    model2.train_model(torch.optim.SGD, lr0, momentum, \n",
    "        num_epochs, batch_size, tfidf_train_data,\n",
    "        tfidf_valid_data,tfidf_test_data,display=5)\n",
    "\n",
    "# Epoch:20, [ACC] TRAIN 0.625554569654 / VALID 0.575676875277 / TEST 0.526715522985 lr = 0.01\n",
    "# Epoch:20, [ACC] TRAIN 0.934671694765 / VALID 0.832667554372 / TEST 0.763890739507 lr = 0.05\n",
    "# Epoch:20, [ACC] TRAIN 0.977817213842 / VALID 0.864181091877 / TEST 0.778814123917 lr = 0.07\n",
    "# Epoch:20, [ACC] TRAIN 0.987023070098 / VALID 0.876608965823 / TEST 0.786942038641 lr = 0.08\n",
    "# Epoch:20, [ACC] TRAIN 0.993234250222 / VALID 0.880159786951 / TEST 0.786009327115 lr = 0.09\n",
    "# Epoch:20, [ACC] TRAIN 0.994787045253 / VALID 0.877940523746 / TEST 0.790273151233 lr 0.1"
   ]
  },
  {
   "cell_type": "code",
   "execution_count": 132,
   "metadata": {},
   "outputs": [
    {
     "data": {
      "image/png": "[encoded data removed]",
      "text/plain": [
       "<matplotlib.figure.Figure at 0x1194d98d0>"
      ]
     },
     "metadata": {},
     "output_type": "display_data"
    }
   ],
   "source": [
    "plt.figure()\n",
    "plt.plot(range(1,num_epochs+1),acc_train2,label='Training')\n",
    "# plt.plot(range(1,num_epochs+1),acc_valid2,label='Validation')\n",
    "plt.plot(range(1,num_epochs+1),acc_test2,label='Test')\n",
    "plt.xlabel('Epochs')\n",
    "plt.ylabel('Accuracy')\n",
    "plt.title('tf-idf data')\n",
    "plt.legend()\n",
    "plt.savefig('problem2-tf-idf.pdf')\n",
    "plt.show()\n"
   ]
  },
  {
   "cell_type": "markdown",
   "metadata": {},
   "source": [
    "## Standardization"
   ]
  },
  {
   "cell_type": "code",
   "execution_count": 176,
   "metadata": {},
   "outputs": [
    {
     "name": "stdout",
     "output_type": "stream",
     "text": [
      "('std_train:', 9016)\n",
      "('std_valid:', 2253)\n",
      "('std_test:', 7505)\n"
     ]
    }
   ],
   "source": [
    "std_train=torch.std(news_train_inputs,0)\n",
    "mean_train=torch.mean(news_train_inputs,0)\n",
    "\n",
    "epsilon=0.00001\n",
    "std_train_inputs=(news_train_inputs-mean_train)/(std_train+epsilon)\n",
    "std_valid_inputs=(news_valid_inputs-mean_train)/(std_train+epsilon)\n",
    "std_test_inputs=(news_test_inputs-mean_train)/(std_train+epsilon)\n",
    "\n",
    "# from sklearn.preprocessing import StandardScaler\n",
    "# standardscaler = StandardScaler(with_mean=True, with_std=True)\n",
    "# standardscaler.fit(news_train_inputs.numpy())\n",
    "\n",
    "# std_train_inputs = torch.from_numpy(standardscaler.transform(\n",
    "#     news_train_inputs.numpy())).type(torch.FloatTensor) \n",
    "# std_valid_inputs = torch.from_numpy(standardscaler.transform(\n",
    "#     news_valid_inputs.numpy())).type(torch.FloatTensor) \n",
    "# std_test_inputs = torch.from_numpy(standardscaler.transform(\n",
    "#     news_test_inputs.numpy())).type(torch.FloatTensor) \n",
    "\n",
    "std_train_data  = torch.utils.data.TensorDataset(\n",
    "    std_train_inputs,news_train_labels)\n",
    "std_valid_data = torch.utils.data.TensorDataset(\n",
    "    std_valid_inputs,news_valid_labels)\n",
    "std_test_data = torch.utils.data.TensorDataset(\n",
    "    std_test_inputs,news_test_labels)\n",
    "\n",
    "print('std_train:',len(std_train_data))\n",
    "print('std_valid:',len(std_valid_data))\n",
    "print('std_test:',len(std_test_data))"
   ]
  },
  {
   "cell_type": "code",
   "execution_count": 183,
   "metadata": {},
   "outputs": [
    {
     "name": "stdout",
     "output_type": "stream",
     "text": [
      "('Training Begining, Count of batchs:', 141)\n",
      "Epoch:1, [NLL] TRAIN [ 2086.02636719] / VALID [ 28630.1015625] / TEST [ 52496.76171875]\n",
      "Epoch:1, [ACC] TRAIN 0.727706299911 / VALID 0.393697292499 / TEST 0.210393071286\n",
      "Epoch:6, [NLL] TRAIN [  5.03601451e+16] / VALID [  1.06906263e+17] / TEST [  1.44989094e+17]\n",
      "Epoch:6, [ACC] TRAIN 0.830301685892 / VALID 0.671992898358 / TEST 0.532978014657\n",
      "Epoch:11, [NLL] TRAIN [  2.36769522e+22] / VALID [  1.10588402e+23] / TEST [  1.87051786e+23]\n",
      "Epoch:11, [ACC] TRAIN 0.885425909494 / VALID 0.705725699068 / TEST 0.570419720187\n",
      "Epoch:16, [NLL] TRAIN [  1.96841010e+21] / VALID [  1.15843805e+23] / TEST [  2.36305242e+23]\n",
      "Epoch:16, [ACC] TRAIN 0.988464951198 / VALID 0.758100310697 / TEST 0.60546302465\n",
      "Epoch:20, [NLL] TRAIN [  1.33201251e+20] / VALID [  1.16286987e+23] / TEST [  2.35605292e+23]\n",
      "Epoch:20, [ACC] TRAIN 0.994121561668 / VALID 0.757212605415 / TEST 0.613857428381\n"
     ]
    }
   ],
   "source": [
    "# train model\n",
    "sizes=[type_max,100,num_class]\n",
    "model2 = MLPnet(sizes)\n",
    "num_epochs=20\n",
    "momentum=0.9\n",
    "batch_size = 64\n",
    "lr0 = 0.05\n",
    "\n",
    "model2.apply(model2.init_weights_glorot)\n",
    "ll_train3,ll_valid3,ll_test3,acc_train3,acc_valid3,acc_test3=\\\n",
    "    model2.train_model(torch.optim.SGD, lr0, momentum, \n",
    "        num_epochs, batch_size, std_train_data,\n",
    "        std_valid_data,std_test_data,display=5)\n",
    "\n",
    "# Epoch:20, [ACC] TRAIN 0.999334516415 / VALID 0.468708388815 / TEST 0.225716189207 lr = 0.01\n",
    "# Epoch:20, [ACC] TRAIN 0.998890860692 / VALID 0.480248557479 / TEST 0.243304463691 lr = 0.005\n",
    "# Epoch:20, [ACC] TRAIN 0.990017746229 / VALID 0.779405237461 / TEST 0.625716189207 lr = 0.05\n",
    "# Epoch:20, [ACC] TRAIN 0.994676131322 / VALID 0.770972037284 / TEST 0.616389073951\n",
    "# Epoch:20, [ACC] TRAIN 0.996339840284 / VALID 0.486462494452 / TEST 0.231179213857 lr = 0.001\n",
    "# Epoch:20, [ACC] TRAIN 0.999334516415 / VALID 0.762982689747 / TEST 0.605862758161 l=0.04"
   ]
  },
  {
   "cell_type": "code",
   "execution_count": 178,
   "metadata": {},
   "outputs": [
    {
     "data": {
      "image/png": "[encoded data removed]",
      "text/plain": [
       "<matplotlib.figure.Figure at 0x1194e4f10>"
      ]
     },
     "metadata": {},
     "output_type": "display_data"
    }
   ],
   "source": [
    "# plot accuracy against training time\n",
    "plt.figure()\n",
    "plt.plot(range(1,num_epochs+1),acc_train3,label='Training')\n",
    "# plt.plot(range(1,num_epochs+1),acc_valid3,label='Validation')\n",
    "plt.plot(range(1,num_epochs+1),acc_test3,label='Test')\n",
    "plt.xlabel('Epochs')\n",
    "plt.ylabel('Accuracy')\n",
    "plt.title('standardization data')\n",
    "plt.legend()\n",
    "plt.savefig('problem2-standardization.pdf')\n",
    "plt.show()"
   ]
  },
  {
   "cell_type": "markdown",
   "metadata": {},
   "source": [
    "## Variance in training"
   ]
  },
  {
   "cell_type": "code",
   "execution_count": 136,
   "metadata": {},
   "outputs": [
    {
     "name": "stdout",
     "output_type": "stream",
     "text": [
      "('Training Begining, Count of batchs:', 9016)\n",
      "Update:500, [NLL] TRAIN 2.56625771523 .\n",
      "Update:1000, [NLL] TRAIN 3.61144566536 .\n",
      "Update:1500, [NLL] TRAIN 2.7849445343 .\n",
      "Update:2000, [NLL] TRAIN 2.88969182968 .\n",
      "Update:2500, [NLL] TRAIN 3.16577553749 .\n",
      "Update:3000, [NLL] TRAIN 0.5741122365 .\n",
      "Update:3500, [NLL] TRAIN 1.94419002533 .\n",
      "Update:4000, [NLL] TRAIN 0.660029351711 .\n",
      "Update:4500, [NLL] TRAIN 1.7399970293 .\n",
      "Update:5000, [NLL] TRAIN 2.8030807972 .\n"
     ]
    }
   ],
   "source": [
    "# mini-batch = 1\n",
    "sizes=[type_max,100,num_class]\n",
    "num_epochs = 60\n",
    "momentum=0\n",
    "lr0 = 0.15\n",
    "batch_size = 1\n",
    "model2 = MLPnet(sizes)\n",
    "model2.apply(model2.init_weights_glorot)\n",
    "ll_train1=\\\n",
    "    model2.train_model2(torch.optim.SGD, lr0, momentum, \n",
    "        num_epochs, batch_size, tfidf_train_data,\n",
    "        tfidf_valid_data,display=500,record_forupdates=5000)\n"
   ]
  },
  {
   "cell_type": "code",
   "execution_count": 137,
   "metadata": {},
   "outputs": [
    {
     "name": "stdout",
     "output_type": "stream",
     "text": [
      "('Training Begining, Count of batchs:', 91)\n",
      "Update:500, [NLL] TRAIN 2.906011343 .\n",
      "Update:1000, [NLL] TRAIN 2.81330227852 .\n",
      "Update:1500, [NLL] TRAIN 2.62143301964 .\n",
      "Update:2000, [NLL] TRAIN 2.49214339256 .\n",
      "Update:2500, [NLL] TRAIN 2.32147550583 .\n",
      "Update:3000, [NLL] TRAIN 2.2684006691 .\n",
      "Update:3500, [NLL] TRAIN 2.29274201393 .\n",
      "Update:4000, [NLL] TRAIN 2.108045578 .\n",
      "Update:4500, [NLL] TRAIN 2.11277103424 .\n",
      "Update:5000, [NLL] TRAIN 2.06383371353 .\n"
     ]
    }
   ],
   "source": [
    "# mini-batch = 100\n",
    "batch_size = 100\n",
    "model2.apply(model2.init_weights_glorot)\n",
    "ll_train2=\\\n",
    "    model2.train_model2(torch.optim.SGD, lr0, momentum, \n",
    "        num_epochs, batch_size, tfidf_train_data,\n",
    "        tfidf_valid_data,display=500,record_forupdates=5000)"
   ]
  },
  {
   "cell_type": "code",
   "execution_count": 138,
   "metadata": {},
   "outputs": [
    {
     "data": {
      "image/png": "[encoded data removed]",
      "text/plain": [
       "<matplotlib.figure.Figure at 0x1194d9210>"
      ]
     },
     "metadata": {},
     "output_type": "display_data"
    }
   ],
   "source": [
    "# plot loss on training \n",
    "plt.figure()\n",
    "plt.plot(range(1,5001),ll_train1,label='minibatch size=1')\n",
    "plt.plot(range(1,5001),ll_train2,label='minibatch size=100')\n",
    "plt.xlabel('Number of updates')\n",
    "plt.ylabel('Loss')\n",
    "plt.title('Difference of mini-batch size')\n",
    "plt.legend()\n",
    "plt.savefig('problem2-batch_size2.pdf')\n",
    "plt.show()"
   ]
  }
 ],
 "metadata": {
  "kernelspec": {
   "display_name": "Python 3",
   "language": "python",
   "name": "python3"
  },
  "language_info": {
   "codemirror_mode": {
    "name": "ipython",
    "version": 3
   },
   "file_extension": ".py",
   "mimetype": "text/x-python",
   "name": "python",
   "nbconvert_exporter": "python",
   "pygments_lexer": "ipython3",
   "version": "3.6.4"
  }
 },
 "nbformat": 4,
 "nbformat_minor": 2
}
